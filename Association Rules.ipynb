{
  "nbformat": 4,
  "nbformat_minor": 0,
  "metadata": {
    "colab": {
      "provenance": [],
      "machine_shape": "hm"
    },
    "kernelspec": {
      "name": "python3",
      "display_name": "Python 3"
    },
    "language_info": {
      "name": "python"
    },
    "accelerator": "GPU",
    "gpuClass": "premium"
  },
  "cells": [
    {
      "cell_type": "code",
      "execution_count": null,
      "metadata": {
        "id": "zK7knpL779kz"
      },
      "outputs": [],
      "source": [
        "!pip install pyspark\n",
        "!pip install -U -q PyDrive\n",
        "!apt install openjdk-8-jdk-headless -qq"
      ]
    },
    {
      "cell_type": "code",
      "source": [
        "import os\n",
        "os.environ[\"JAVA_HOME\"] = \"/usr/lib/jvm/java-8-openjdk-amd64\""
      ],
      "metadata": {
        "id": "9nAON16Q7-j6"
      },
      "execution_count": 1,
      "outputs": []
    },
    {
      "cell_type": "code",
      "source": [
        "# Let's import the libraries we will need\n",
        "import pandas as pd\n",
        "import numpy as np\n",
        "import matplotlib.pyplot as plt\n",
        "%matplotlib inline\n",
        "import itertools\n",
        "import pyspark\n",
        "from pyspark.sql import *\n",
        "from pyspark.sql.functions import *\n",
        "from pyspark import SparkContext, SparkConf"
      ],
      "metadata": {
        "id": "huDu4X_u8AbS"
      },
      "execution_count": 35,
      "outputs": []
    },
    {
      "cell_type": "code",
      "source": [
        "# create the session\n",
        "conf = SparkConf().set(\"spark.ui.port\", \"4050\")\n",
        "\n",
        "# create the context\n",
        "sc = pyspark.SparkContext(conf=conf)\n",
        "spark = SparkSession.builder.getOrCreate()"
      ],
      "metadata": {
        "id": "zh5JkYUI8B1U"
      },
      "execution_count": 3,
      "outputs": []
    },
    {
      "cell_type": "code",
      "source": [
        "spark"
      ],
      "metadata": {
        "colab": {
          "base_uri": "https://localhost:8080/",
          "height": 222
        },
        "id": "KIRbDGI58DwD",
        "outputId": "fbb37830-e253-40b6-82a0-5149428f0bb1"
      },
      "execution_count": 4,
      "outputs": [
        {
          "output_type": "execute_result",
          "data": {
            "text/plain": [
              "<pyspark.sql.session.SparkSession at 0x7fb6b7689040>"
            ],
            "text/html": [
              "\n",
              "            <div>\n",
              "                <p><b>SparkSession - in-memory</b></p>\n",
              "                \n",
              "        <div>\n",
              "            <p><b>SparkContext</b></p>\n",
              "\n",
              "            <p><a href=\"http://4e04915bdb05:4050\">Spark UI</a></p>\n",
              "\n",
              "            <dl>\n",
              "              <dt>Version</dt>\n",
              "                <dd><code>v3.3.2</code></dd>\n",
              "              <dt>Master</dt>\n",
              "                <dd><code>local[*]</code></dd>\n",
              "              <dt>AppName</dt>\n",
              "                <dd><code>pyspark-shell</code></dd>\n",
              "            </dl>\n",
              "        </div>\n",
              "        \n",
              "            </div>\n",
              "        "
            ]
          },
          "metadata": {},
          "execution_count": 4
        }
      ]
    },
    {
      "cell_type": "code",
      "source": [],
      "metadata": {
        "id": "5-9xpcnXKnv2"
      },
      "execution_count": 5,
      "outputs": []
    },
    {
      "cell_type": "code",
      "source": [
        "input_file =  sc.textFile(\"browsing.txt\")\n",
        "items = input_file.flatMap(lambda line:line.split())\n",
        "items_count = len(input_file.collect())\n",
        "unique_items = items.distinct()"
      ],
      "metadata": {
        "id": "cYftSsXT8FoZ"
      },
      "execution_count": 95,
      "outputs": []
    },
    {
      "cell_type": "code",
      "source": [
        "support_per_item = items.map(lambda item: (item , 1)).reduceByKey(lambda x,y: x+y)"
      ],
      "metadata": {
        "id": "1aGikTcWCFpV"
      },
      "execution_count": 96,
      "outputs": []
    },
    {
      "cell_type": "code",
      "source": [
        "MSV = 100\n",
        "support_per_item = support_per_item.filter(lambda item: item[1] >= MSV)\n",
        "support_per_item_items = support_per_item.map(lambda x: x[0])"
      ],
      "metadata": {
        "id": "jwxsYDbzFCw_"
      },
      "execution_count": 97,
      "outputs": []
    },
    {
      "cell_type": "code",
      "source": [
        "support_per_item.collect()[0], support_per_item_items.collect()[:10]"
      ],
      "metadata": {
        "colab": {
          "base_uri": "https://localhost:8080/"
        },
        "id": "VpJt3SISLdD0",
        "outputId": "cc0c5a8b-ebe4-469a-8120-974742f45ac6"
      },
      "execution_count": 98,
      "outputs": [
        {
          "output_type": "execute_result",
          "data": {
            "text/plain": [
              "(('FRO11987', 104),\n",
              " ['FRO11987',\n",
              "  'SNA90258',\n",
              "  'ELE52966',\n",
              "  'SNA80192',\n",
              "  'GRO73461',\n",
              "  'DAI22896',\n",
              "  'FRO86643',\n",
              "  'SNA69641',\n",
              "  'GRO39357',\n",
              "  'ELE11375'])"
            ]
          },
          "metadata": {},
          "execution_count": 98
        }
      ]
    },
    {
      "cell_type": "code",
      "source": [
        "len(support_per_item.collect())"
      ],
      "metadata": {
        "colab": {
          "base_uri": "https://localhost:8080/"
        },
        "id": "lOnhKt1kL_te",
        "outputId": "da53192c-df87-42bf-b282-7180d9bb1f17"
      },
      "execution_count": 99,
      "outputs": [
        {
          "output_type": "execute_result",
          "data": {
            "text/plain": [
              "647"
            ]
          },
          "metadata": {},
          "execution_count": 99
        }
      ]
    },
    {
      "cell_type": "code",
      "source": [
        "support_per_item_items_list = support_per_item_items.collect()\n",
        "from more_itertools import distinct_permutations as idp\n",
        "\n",
        "def get_combinations(a):\n",
        "  a = a.split()\n",
        "  b = []\n",
        "  for i in a:\n",
        "    if i in support_per_item_items_list:\n",
        "      b.append(i)\n",
        "  return list(itertools.permutations(b, 2))\n",
        "\n",
        "def m_reducer(a,b):\n",
        "  if a[0][0] == b[0][1] and a[0][1] == b[0][0]:\n",
        "    return a"
      ],
      "metadata": {
        "id": "53zbBZlAUd7l"
      },
      "execution_count": 154,
      "outputs": []
    },
    {
      "cell_type": "code",
      "source": [
        "items_len_2 = input_file.flatMap(get_combinations).map(lambda x: (x, 1)).reduceByKey(lambda x,y: x+y)\n",
        "items_len_2 = items_len_2.filter(lambda item: item[1] >= MSV)"
      ],
      "metadata": {
        "id": "Ds0i_4P5SM7Y"
      },
      "execution_count": 155,
      "outputs": []
    },
    {
      "cell_type": "code",
      "source": [
        "len(items_len_2.collect()), items_len_2.collect()[0]"
      ],
      "metadata": {
        "colab": {
          "base_uri": "https://localhost:8080/"
        },
        "id": "qLt3Lx7ATZMQ",
        "outputId": "7d2dae13-e2b6-4010-f425-132c35193919"
      },
      "execution_count": 156,
      "outputs": [
        {
          "output_type": "execute_result",
          "data": {
            "text/plain": [
              "(2668, (('ELE17451', 'GRO99222'), 148))"
            ]
          },
          "metadata": {},
          "execution_count": 156
        }
      ]
    },
    {
      "cell_type": "code",
      "source": [
        "supportd1 = {i[0]:i[1] for i in support_per_item.collect()}\n",
        "supportd2 = items_len_2.collect()"
      ],
      "metadata": {
        "id": "OU07ToHgdGAL"
      },
      "execution_count": 157,
      "outputs": []
    },
    {
      "cell_type": "code",
      "source": [
        "confidences = []\n",
        "for i in supportd2:\n",
        "  confidences.append((i[0], i[1]/supportd1[i[0][1]]))\n",
        "\n",
        "confidences.sort(key = lambda x: x[1], reverse = True)"
      ],
      "metadata": {
        "id": "zkD2gjc6pSKb"
      },
      "execution_count": 158,
      "outputs": []
    },
    {
      "cell_type": "code",
      "source": [
        "confidences[:5]"
      ],
      "metadata": {
        "colab": {
          "base_uri": "https://localhost:8080/"
        },
        "id": "yF4S272KpT_6",
        "outputId": "3fe87bd6-e00c-46ee-db55-fe82f948649f"
      },
      "execution_count": 159,
      "outputs": [
        {
          "output_type": "execute_result",
          "data": {
            "text/plain": [
              "[(('FRO40251', 'DAI93865'), 1.0),\n",
              " (('FRO40251', 'GRO85051'), 0.999176276771005),\n",
              " (('FRO40251', 'GRO38636'), 0.9906542056074766),\n",
              " (('FRO40251', 'ELE12951'), 0.9905660377358491),\n",
              " (('FRO40251', 'DAI88079'), 0.9867256637168141)]"
            ]
          },
          "metadata": {},
          "execution_count": 159
        }
      ]
    },
    {
      "cell_type": "code",
      "source": [],
      "metadata": {
        "id": "Ud_gbymorfkn"
      },
      "execution_count": null,
      "outputs": []
    },
    {
      "cell_type": "code",
      "source": [
        "def get_combinations3(a):\n",
        "  a = a.split()\n",
        "  b = []\n",
        "  for i in a:\n",
        "    if i in support_per_item_items_list:\n",
        "      b.append(i)\n",
        "  return list(itertools.permutations(b, 3))"
      ],
      "metadata": {
        "id": "3tMoNj60scUk"
      },
      "execution_count": 164,
      "outputs": []
    },
    {
      "cell_type": "code",
      "source": [
        "items_len_3 = input_file.flatMap(get_combinations3).map(lambda x: (x, 1)).reduceByKey(lambda x,y: x+y)\n",
        "items_len_3 = items_len_3.filter(lambda item: item[1] >= MSV)"
      ],
      "metadata": {
        "id": "RiXWs9t1sDZP"
      },
      "execution_count": 165,
      "outputs": []
    },
    {
      "cell_type": "code",
      "source": [
        "len(items_len_3.collect())"
      ],
      "metadata": {
        "colab": {
          "base_uri": "https://localhost:8080/"
        },
        "id": "MjIbfHm-skYk",
        "outputId": "f244f96a-9def-4b70-bbf7-153fd5bf398d"
      },
      "execution_count": 166,
      "outputs": [
        {
          "output_type": "execute_result",
          "data": {
            "text/plain": [
              "1398"
            ]
          },
          "metadata": {},
          "execution_count": 166
        }
      ]
    },
    {
      "cell_type": "code",
      "source": [
        "supportd3 = items_len_3.collect()"
      ],
      "metadata": {
        "id": "-x7KbQ2bu3Q-"
      },
      "execution_count": 167,
      "outputs": []
    },
    {
      "cell_type": "code",
      "source": [
        "confidences_3 = []\n",
        "for i in supportd3:\n",
        "  confidences_3.append((i[0], i[1]/supportd1[i[0][2]]))\n",
        "\n",
        "confidences_3.sort(key = lambda x: x[1], reverse = True)"
      ],
      "metadata": {
        "id": "KwxvwNFTw9yZ"
      },
      "execution_count": 169,
      "outputs": []
    },
    {
      "cell_type": "code",
      "source": [
        "confidences_3[:10]"
      ],
      "metadata": {
        "colab": {
          "base_uri": "https://localhost:8080/"
        },
        "id": "RERs_fn8x07i",
        "outputId": "0bd12b86-7664-4bc8-ed42-63bf3549f220"
      },
      "execution_count": 170,
      "outputs": [
        {
          "output_type": "execute_result",
          "data": {
            "text/plain": [
              "[(('DAI62779', 'ELE92920', 'SNA18336'), 0.609308885754584),\n",
              " (('ELE92920', 'DAI62779', 'SNA18336'), 0.609308885754584),\n",
              " (('DAI62779', 'ELE92920', 'DAI23334'), 0.5),\n",
              " (('ELE92920', 'DAI62779', 'DAI23334'), 0.5),\n",
              " (('SNA80324', 'FRO40251', 'FRO92469'), 0.4040047114252061),\n",
              " (('FRO40251', 'SNA80324', 'FRO92469'), 0.4040047114252061),\n",
              " (('FRO40251', 'SNA80324', 'GRO85051'), 0.38797364085667213),\n",
              " (('SNA80324', 'FRO40251', 'GRO85051'), 0.38797364085667213),\n",
              " (('GRO73461', 'DAI75645', 'FRO47962'), 0.3627450980392157),\n",
              " (('DAI75645', 'GRO73461', 'FRO47962'), 0.3627450980392157)]"
            ]
          },
          "metadata": {},
          "execution_count": 170
        }
      ]
    },
    {
      "cell_type": "code",
      "source": [],
      "metadata": {
        "id": "UtRc_r65x17m"
      },
      "execution_count": null,
      "outputs": []
    }
  ]
}